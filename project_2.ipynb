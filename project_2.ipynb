{
 "cells": [
  {
   "cell_type": "markdown",
   "metadata": {},
   "source": [
    "# Project 2: Neural Style Transfer\n",
    "##### \n",
    "##### Submission due on December 11th \n",
    "##### \n",
    "\n",
    "<table style=\"width:100%\">\n",
    "    <tr>\n",
    "        <th><img src=\"altgebaeude.jpg?666\" alt=\"\" style=\"width: 333px;\"></th>\n",
    "        <th><img src=\"vangogh.jpg?999\" alt=\"\" style=\"width: 333px;\"></th>\n",
    "        <th><img src=\"altgebaeude_stilisiert.png?555\" alt=\"\" style=\"width: 333px;\"></th>\n",
    "    </tr>\n",
    "    <tr>\n",
    "        <th>Content Image $\\mathbf{c}$</th>\n",
    "        <th>Style Image $\\mathbf{s}$</th>\n",
    "        <th>Generated Image $\\mathbf{x}$</th>\n",
    "    </tr>\n",
    "</table> \n",
    "\n",
    "#### \n",
    "\n",
    "Welcome to *Project 2: Neural Style Transfer*! Neural style transfer is an approach to modify a given image (the *Content Image*, usually a photo) such that it assimilates another given image (the *Style Image*, usually a painting) in terms of style. In doing that, of course we need an explicit definition of what we mean by *style*: A specific loss function is minimized which incorporates a pretrained convolutional neural network (CNN). A subset of layers of the CNN are used to compute a distance between the sought image (the *Generated Image*) and the *Content Image*, and between the *Generated Image* and the *Style Imgage*, respectively.\n",
    "\n",
    "The underlying idea originates in the paper <a href=\"https://arxiv.org/pdf/1508.06576.pdf\">A Neural Algorithm of Artistic Style</a> by Leon Gatys, Alexander Ecker and Matthias Bethge. It is assumed that outputs of CNN layers indicate whether or not areas of an input image contain certain learned patterns. Each filter in a CNN layer represents one pattern, and the deeper a filter is located in the network, the more complex and abstract can be the extracted information. While layer outputs (activations) can be used directly to derive a distance between content image and generated image, something more sophisticated is needed to measure similarity in style. To establish a style based distance, correlations (inner products) between all output channels of a CNN layer are computed and stored in a *Gram Matrix*. A comparison between *Style Image* and *Generated Image* is then accomplished in terms of several Gram matrices relating to different layers. More details can be found below, in the above-mentioned paper, and in the Stud.IP Courseware.\n",
    "\n",
    "In this project, you will use the readily trained and available CNN <a href=\"https://www.tensorflow.org/api_docs/python/tf/keras/applications/vgg19\">VGG19</a> (see also <a href=\"https://arxiv.org/pdf/1409.1556.pdf\">Very Deep Convolutional Networks for Large-Scale Image Recognition</a> by Karen Simonyan Andrew Zisserman). In other words, our goal here is **not** to learn parameters of a neural network. We solely seek the *Generated Image*. However, you will learn fundamentals for an advanced usage of Keras and TensorFlow. To compute CNN activations and Gram matrices from inputs, you will need the <a href=\"https://studip.tu-braunschweig.de/plugins.php/courseware/courseware?cid=20c4897dea349b14eca5d904fda9504d&selected=1400901\">Keras Functional API</a> as well as the <a href=\"https://studip.tu-braunschweig.de/plugins.php/courseware/courseware?cid=20c4897dea349b14eca5d904fda9504d&selected=1400902\">Keras Subclassing API</a>. These two enable you to create custom models in Keras and surpass the possibilities of the <a href=\"https://studip.tu-braunschweig.de/plugins.php/courseware/courseware?cid=20c4897dea349b14eca5d904fda9504d&selected=1400900\">Keras Sequential API</a> by far. Moreover, you will use <a href=\"https://studip.tu-braunschweig.de/plugins.php/courseware/courseware?cid=20c4897dea349b14eca5d904fda9504d&selected=1400905\">TensorFlow functions</a> and <a href=\"https://studip.tu-braunschweig.de/plugins.php/courseware/courseware?cid=20c4897dea349b14eca5d904fda9504d&selected=1400896\">automatic differentiation</a> in order to implement <a href=\"https://studip.tu-braunschweig.de/plugins.php/courseware/courseware?cid=20c4897dea349b14eca5d904fda9504d&selected=1400904\">custom training loops</a> in TensorFlow."
   ]
  },
  {
   "cell_type": "code",
   "execution_count": null,
   "metadata": {},
   "outputs": [],
   "source": [
    "import matplotlib.pyplot as plt\n",
    "import numpy as np\n",
    "import tensorflow as tf\n",
    "import tensorflow_probability as tfp\n",
    "\n",
    "tf.keras.backend.set_floatx('float64')"
   ]
  },
  {
   "cell_type": "markdown",
   "metadata": {},
   "source": [
    "## 2.1 Loading and formatting images with TensorFlow"
   ]
  },
  {
   "cell_type": "markdown",
   "metadata": {},
   "source": [
    "1. Write a function ```load_img(path_to_img, max_dim)``` that reads and resizes an image. The function shall return a 4D-tensor ```img``` of type ```tf.float64``` with values in the range ```[0,1]```. Height and width of the image shall be scaled such that the maximum of ```img.shape[1]``` (height in pixels) and ```img.shape[2]``` (width in pixels) is exactly ```max_dim```. Moreover, the output should feature ```img.shape[0] = 1``` (batch size) and ```img.shape[3] = 3``` (number of channels). Proceed as follows:\n",
    "\n",
    "    1.1 Use ```tf.io.read_file```, ```tf.image.decode_image``` and ```tf.image.convert_image_dtype``` (in this order), to read and convert the input image.\n",
    "    \n",
    "    1.2 Use ```tf.image.resize``` to scale height and width by the same factor. Make sure that the maximum \n",
    "    \n",
    "    1.3 Use ```tf.expand_dims``` to add the batch dimension.\n",
    "    \n",
    "    1.4 Use ```tf.cast``` to make sure that the output has type ```tf.float64```.\n"
   ]
  },
  {
   "cell_type": "code",
   "execution_count": null,
   "metadata": {},
   "outputs": [],
   "source": [
    "# YOUR CODE\n",
    "def load_img(path_to_img, max_dim):\n",
    "    img= tf.image.convert_image_dtype(tf.image.decode_image(tf.io.read_file(path_to_img)),dtype=tf.float64)\n",
    "    scale = min(img.shape[0],img.shape[1])/max(img.shape[0],img.shape[1])\n",
    "    #print(max(img.shape[0],img.shape[1]))\n",
    "    if(img.shape[0]<img.shape[1]):\n",
    "        img1= tf.image.resize(img, [tf.cast(scale*max_dim, dtype= tf.int64), max_dim])     \n",
    "    else:\n",
    "        img1= tf.image.resize(img, [max_dim, tf.cast(scale*max_dim, dtype= tf.int64)]) \n",
    "    img2= tf.expand_dims(img1, axis=0)\n",
    "    return tf.cast(img2, dtype= tf.float64)"
   ]
  },
  {
   "cell_type": "markdown",
   "metadata": {},
   "source": [
    "2. Call ```load_img``` with ```max_dim = 512``` to load ```altgebaeude.jpg``` and ```vangogh.jpg``` and store them in variables ```content_image``` and ```style_image```, respectively.\n",
    "\n",
    "\n",
    "3. Use ```plt.imshow``` to display both images."
   ]
  },
  {
   "cell_type": "code",
   "execution_count": null,
   "metadata": {},
   "outputs": [],
   "source": [
    "# YOUR CODE\n",
    "content_image= load_img('altgebaeude.jpg', 512)\n",
    "style_image= load_img('vangogh.jpg',512)\n",
    "plt.show(plt.imshow(content_image[0,:]))\n",
    "plt.show(plt.imshow(style_image[0,:]))"
   ]
  },
  {
   "cell_type": "markdown",
   "metadata": {},
   "source": [
    "4. Apply ```tf.shape``` to ```content_image``` and ```style_image``` and diplay both outputs."
   ]
  },
  {
   "cell_type": "code",
   "execution_count": 4,
   "metadata": {},
   "outputs": [
    {
     "name": "stdout",
     "output_type": "stream",
     "text": [
      "tf.Tensor([  1 337 512   3], shape=(4,), dtype=int32)\n",
      "tf.Tensor([  1 405 512   3], shape=(4,), dtype=int32)\n"
     ]
    }
   ],
   "source": [
    "# YOUR CODE\n",
    "print(tf.shape(content_image))\n",
    "print(tf.shape(style_image))"
   ]
  },
  {
   "cell_type": "markdown",
   "metadata": {},
   "source": [
    "**Checkpoint:** Your output should look like this:\n",
    "\n",
    "```\n",
    "tf.Tensor([  1 337 512   3], shape=(4,), dtype=int32)\n",
    "tf.Tensor([  1 405 512   3], shape=(4,), dtype=int32)\n",
    "```"
   ]
  },
  {
   "cell_type": "markdown",
   "metadata": {},
   "source": [
    "## 2.2 Using pretrained models in Keras\n",
    "\n",
    "```tf.keras.applications``` lets you load various readily trained neural networks, for example ```VGG19``` which we are going to use here. Before starting with Neural Style Transfer, let us see how to use a pretrained model for multiclass classification.\n",
    "\n",
    "5. Call ```tf.keras.applications.VGG19``` with arguments ```include_top = True``` and ```weights = \"imagenet\"```, and store the output in a variable ```vgg```.\n",
    "\n",
    "The first-mentioned argument is to get both the preceding convolutional layers *and* the subsequent fully connected layers at the top of ```VGG19```. Vice versa, ```include_top = False``` lets you load the network without fully connected layers. The version without fully connected layers has the advantage that images of arbitrary height and width are accepted as input and can be propagated through the network (we will make use of this for Neural Style Transfer). The variant you should have loaded now accepts only ```224 x 224``` images. The latter argument ```weights = \"imagenet\"``` implies that a network is loaded that was pretrained on the ```imagenet``` dataset. By means of ```weights = None```, you can also get a randomly initialized version."
   ]
  },
  {
   "cell_type": "code",
   "execution_count": 5,
   "metadata": {},
   "outputs": [],
   "source": [
    "# YOUR CODE\n",
    "vgg = tf.keras.applications.VGG19(include_top = True, weights = \"imagenet\")"
   ]
  },
  {
   "cell_type": "markdown",
   "metadata": {},
   "source": [
    "6. Use ```tf.keras.models.Model.summary``` to get an overview of the model."
   ]
  },
  {
   "cell_type": "code",
   "execution_count": 6,
   "metadata": {
    "scrolled": true
   },
   "outputs": [
    {
     "name": "stdout",
     "output_type": "stream",
     "text": [
      "Model: \"vgg19\"\n",
      "_________________________________________________________________\n",
      " Layer (type)                Output Shape              Param #   \n",
      "=================================================================\n",
      " input_1 (InputLayer)        [(None, 224, 224, 3)]     0         \n",
      "                                                                 \n",
      " block1_conv1 (Conv2D)       (None, 224, 224, 64)      1792      \n",
      "                                                                 \n",
      " block1_conv2 (Conv2D)       (None, 224, 224, 64)      36928     \n",
      "                                                                 \n",
      " block1_pool (MaxPooling2D)  (None, 112, 112, 64)      0         \n",
      "                                                                 \n",
      " block2_conv1 (Conv2D)       (None, 112, 112, 128)     73856     \n",
      "                                                                 \n",
      " block2_conv2 (Conv2D)       (None, 112, 112, 128)     147584    \n",
      "                                                                 \n",
      " block2_pool (MaxPooling2D)  (None, 56, 56, 128)       0         \n",
      "                                                                 \n",
      " block3_conv1 (Conv2D)       (None, 56, 56, 256)       295168    \n",
      "                                                                 \n",
      " block3_conv2 (Conv2D)       (None, 56, 56, 256)       590080    \n",
      "                                                                 \n",
      " block3_conv3 (Conv2D)       (None, 56, 56, 256)       590080    \n",
      "                                                                 \n",
      " block3_conv4 (Conv2D)       (None, 56, 56, 256)       590080    \n",
      "                                                                 \n",
      " block3_pool (MaxPooling2D)  (None, 28, 28, 256)       0         \n",
      "                                                                 \n",
      " block4_conv1 (Conv2D)       (None, 28, 28, 512)       1180160   \n",
      "                                                                 \n",
      " block4_conv2 (Conv2D)       (None, 28, 28, 512)       2359808   \n",
      "                                                                 \n",
      " block4_conv3 (Conv2D)       (None, 28, 28, 512)       2359808   \n",
      "                                                                 \n",
      " block4_conv4 (Conv2D)       (None, 28, 28, 512)       2359808   \n",
      "                                                                 \n",
      " block4_pool (MaxPooling2D)  (None, 14, 14, 512)       0         \n",
      "                                                                 \n",
      " block5_conv1 (Conv2D)       (None, 14, 14, 512)       2359808   \n",
      "                                                                 \n",
      " block5_conv2 (Conv2D)       (None, 14, 14, 512)       2359808   \n",
      "                                                                 \n",
      " block5_conv3 (Conv2D)       (None, 14, 14, 512)       2359808   \n",
      "                                                                 \n",
      " block5_conv4 (Conv2D)       (None, 14, 14, 512)       2359808   \n",
      "                                                                 \n",
      " block5_pool (MaxPooling2D)  (None, 7, 7, 512)         0         \n",
      "                                                                 \n",
      " flatten (Flatten)           (None, 25088)             0         \n",
      "                                                                 \n",
      " fc1 (Dense)                 (None, 4096)              102764544 \n",
      "                                                                 \n",
      " fc2 (Dense)                 (None, 4096)              16781312  \n",
      "                                                                 \n",
      " predictions (Dense)         (None, 1000)              4097000   \n",
      "                                                                 \n",
      "=================================================================\n",
      "Total params: 143,667,240\n",
      "Trainable params: 143,667,240\n",
      "Non-trainable params: 0\n",
      "_________________________________________________________________\n"
     ]
    }
   ],
   "source": [
    "# YOUR CODE\n",
    "tf.keras.models.Model.summary(vgg)"
   ]
  },
  {
   "cell_type": "markdown",
   "metadata": {},
   "source": [
    "Each model in ```keras.applications``` has an own preprocessing function that should be applied to inputs before feeding them into the network. In case of ```VGG19```, the preprocessing function expects an image with integer pixel values between 0 and 255 as input.\n",
    "\n",
    "7. Apply ```tf.keras.applications.vgg19.preprocess_input``` to a version of ```content_image``` with accordingly scaled pixel values and store the output in ```content_image_pp```. Afterwards, use ```tf.image.resize``` to rescale ```content_image_pp``` such that you can apply ```vgg``` to the result ```content_image_rs```. Do the latter and store the output of ```vgg``` in ```predicted_probabilities```."
   ]
  },
  {
   "cell_type": "code",
   "execution_count": 7,
   "metadata": {},
   "outputs": [],
   "source": [
    "# YOUR CODE\n",
    "content_image_pp = tf.keras.applications.vgg19.preprocess_input(tf.cast(content_image*255, dtype= tf.int64))\n",
    "content_image_rs = tf.image.resize(content_image_pp, [224,224])\n",
    "predicted_probabilities = vgg(content_image_rs)"
   ]
  },
  {
   "cell_type": "markdown",
   "metadata": {},
   "source": [
    "8. Now call ```tf.keras.applications.vgg19.decode_predictions``` with arguments ```predicted_probabilities.numpy()``` and ```top = 10``` to display the top 10 classes and associated probabilities for the given input. Store the output in ```predicted_top_10``` and display ```[(class_name, prob) for (number, class_name, prob) in predicted_top_10[0]]```."
   ]
  },
  {
   "cell_type": "code",
   "execution_count": 8,
   "metadata": {},
   "outputs": [
    {
     "data": {
      "text/plain": [
       "[('palace', 0.9915161606864946),\n",
       " ('triumphal_arch', 0.002655946772894396),\n",
       " ('monastery', 0.0013153653039602424),\n",
       " ('library', 0.0011080664892012444),\n",
       " ('fountain', 0.000874942426485527),\n",
       " ('church', 0.0004381552953430064),\n",
       " ('castle', 0.0003093109406722081),\n",
       " ('obelisk', 0.00029404841525703925),\n",
       " ('cinema', 0.00022541442218103919),\n",
       " ('dome', 0.00022478306466236264)]"
      ]
     },
     "execution_count": 8,
     "metadata": {},
     "output_type": "execute_result"
    }
   ],
   "source": [
    "# YOUR CODE\n",
    "predicted_top_10 = tf.keras.applications.vgg19.decode_predictions(predicted_probabilities.numpy(), top = 10)\n",
    "[(class_name, prob) for (number, class_name, prob) in predicted_top_10[0]]"
   ]
  },
  {
   "cell_type": "markdown",
   "metadata": {},
   "source": [
    "**Checkpoint:** You should have got the following output:\n",
    "```\n",
    "[('palace', 0.9914493749464944),\n",
    " ('triumphal_arch', 0.00267970467587212),\n",
    " ('monastery', 0.0013206769341534597),\n",
    " ('library', 0.0011177809930798567),\n",
    " ('fountain', 0.0008800198818778909),\n",
    " ('church', 0.0004445435231895076),\n",
    " ('castle', 0.0003099415218987508),\n",
    " ('obelisk', 0.00029764423272215536),\n",
    " ('dome', 0.00022929634370079404),\n",
    " ('cinema', 0.00022750031564633795)]\n",
    " ```\n",
    "\n",
    "So, according to ```VGG19```, our old building is most probably a palace!\n",
    "\n",
    "9. Repeat 7. und 8. with ```style_image``` as input."
   ]
  },
  {
   "cell_type": "code",
   "execution_count": 9,
   "metadata": {},
   "outputs": [
    {
     "data": {
      "text/plain": [
       "[('jigsaw_puzzle', 0.13040675094078075),\n",
       " ('prayer_rug', 0.1132453322660371),\n",
       " ('shower_curtain', 0.11199525393083005),\n",
       " ('quilt', 0.06523762979509574),\n",
       " ('pillow', 0.060210247618214634),\n",
       " ('sarong', 0.04007439827982016),\n",
       " ('cardigan', 0.03007801355355644),\n",
       " ('coral_reef', 0.029660739975279158),\n",
       " ('wool', 0.02878153118381968),\n",
       " ('book_jacket', 0.022738451549793075)]"
      ]
     },
     "execution_count": 9,
     "metadata": {},
     "output_type": "execute_result"
    }
   ],
   "source": [
    "# YOUR CODE\n",
    "content_image_pp= tf.keras.applications.vgg19.preprocess_input(tf.cast(style_image*255, dtype= tf.int64))\n",
    "content_image_rs= tf.image.resize(content_image_pp, [224,224])\n",
    "predicted_probablities= vgg(content_image_rs)\n",
    "predicted_top_10= tf.keras.applications.vgg19.decode_predictions(predicted_probablities.numpy(), top= 10)\n",
    "[(class_name, prob) for (number, class_name, prob) in predicted_top_10[0]]"
   ]
  },
  {
   "cell_type": "markdown",
   "metadata": {},
   "source": [
    "## 2.3 Defining a feature extractor\n",
    "\n",
    "Now, we come to the main part of this project: *Neural Style Transfer*! To evaluate the objective\n",
    "\n",
    "$$J(\\mathbf{x}, \\mathbf{c}, \\mathbf{s}) = \\alpha \\ J_\\mathrm{content}(\\mathbf{x}, \\mathbf{c}) + \\beta \\ J_\\mathrm{style}(\\mathbf{x}, \\mathbf{s})\\qquad (*)$$\n",
    "\n",
    "we need a *feature extractor*. The feature extractor shall provide us outputs $\\mathrm{a}^{[\\ell](\\mathbf{x})}$ and $\\mathrm{a}^{[\\ell](\\mathbf{c})}$ of selected convolutional layers of ```VGG19``` that we need to evaluate the content loss:\n",
    "\n",
    "$$J_\\mathrm{content}(\\mathbf{x}, \\mathbf{c}) = \\frac{1}{2 \\vert L_\\mathrm{content}\\vert} \\sum_{\\ell\\in L_\\mathrm{content}} \\Vert \\mathrm{a}^{[\\ell](\\mathbf{x})} - \\mathrm{a}^{[\\ell](\\mathbf{c})} \\Vert_2^2\\qquad (**)$$\n",
    "\n",
    "The set $L_\\mathrm{content}$ contains all indices of layers that shall be considered in the content loss. Accordingly, $L_\\mathrm{style}$ refers to layers that shall be considered in the style loss.\n",
    "\n",
    "Respective outputs are used to compute gram matrices $\\mathrm{G}^{[\\ell](\\mathbf{x})}$ and $\\mathrm{G}^{[\\ell](\\mathbf{s})}$ that we need to evaluate the style loss:\n",
    "\n",
    "$$J_\\mathrm{style}(\\mathbf{x}, \\mathbf{s}) = \\frac{1}{4 \\vert L_\\mathrm{style}\\vert} \\sum_{\\ell\\in L_\\mathrm{style}} \\Vert \\mathrm{G}^{[\\ell](\\mathbf{x})} - \\mathrm{G}^{[\\ell](\\mathbf{s})} \\Vert_2^2\\qquad (***)$$\n",
    "\n",
    "Therein, the gram matrices are computed via\n",
    "\n",
    "$$\\mathrm{G}^{[\\ell](\\mathbf{x})}_{i, j} = \\frac{1}{n^{[\\ell]}_H n^{[\\ell]}_W n^{[\\ell]}_C} \\langle\\mathrm{a}^{[\\ell](\\mathbf{x})}_{i}, \\mathrm{a}^{[\\ell](\\mathbf{x})}_{j}\\rangle\\quad\\text{für}\\quad i, j =1,\\dots,n^{[\\ell]}_C\\qquad (****)$$\n",
    "\n",
    "and $\\mathrm{a}^{[\\ell](\\mathbf{x})}_{i}$ and $\\mathrm{a}^{[\\ell](\\mathbf{x})}_{j}$ represent the $i$-th and $j$-th channel of $\\mathrm{a}^{[\\ell](\\mathbf{x})}$, respectively.\n",
    "\n",
    "\n",
    "10. Load ```VGG19``` again, this time with ```include_top = False```. Afterwards, display the names of all layers in ```vgg.layers```."
   ]
  },
  {
   "cell_type": "code",
   "execution_count": 10,
   "metadata": {},
   "outputs": [
    {
     "data": {
      "text/plain": [
       "['input_2',\n",
       " 'block1_conv1',\n",
       " 'block1_conv2',\n",
       " 'block1_pool',\n",
       " 'block2_conv1',\n",
       " 'block2_conv2',\n",
       " 'block2_pool',\n",
       " 'block3_conv1',\n",
       " 'block3_conv2',\n",
       " 'block3_conv3',\n",
       " 'block3_conv4',\n",
       " 'block3_pool',\n",
       " 'block4_conv1',\n",
       " 'block4_conv2',\n",
       " 'block4_conv3',\n",
       " 'block4_conv4',\n",
       " 'block4_pool',\n",
       " 'block5_conv1',\n",
       " 'block5_conv2',\n",
       " 'block5_conv3',\n",
       " 'block5_conv4',\n",
       " 'block5_pool']"
      ]
     },
     "execution_count": 10,
     "metadata": {},
     "output_type": "execute_result"
    }
   ],
   "source": [
    "# YOUR CODE\n",
    "vgg = tf.keras.applications.VGG19(include_top = False, weights = \"imagenet\")\n",
    "[layer.name for layer in vgg.layers]"
   ]
  },
  {
   "cell_type": "markdown",
   "metadata": {},
   "source": [
    "**Checkpoint:** Your output should look as follows:\n",
    "```\n",
    "input_2\n",
    "block1_conv1\n",
    "block1_conv2\n",
    "block1_pool\n",
    "block2_conv1\n",
    "block2_conv2\n",
    "block2_pool\n",
    "block3_conv1\n",
    "block3_conv2\n",
    "block3_conv3\n",
    "block3_conv4\n",
    "block3_pool\n",
    "block4_conv1\n",
    "block4_conv2\n",
    "block4_conv3\n",
    "block4_conv4\n",
    "block4_pool\n",
    "block5_conv1\n",
    "block5_conv2\n",
    "block5_conv3\n",
    "block5_conv4\n",
    "block5_pool\n",
    "```\n",
    "\n",
    "This output includes all layers, that can be added to $L_\\mathrm{content}$ and $L_\\mathrm{style}$. For the moment, let us fix the following:\n",
    "\n",
    "11. Create two lists ```content_layers``` and ```style_layers```. Initialize ```content_layers``` with a single element ```\"block4_conv2\"``` and ```style_layers``` with five elements ```\"block1_conv1\", ..., \"block5_conv1\"```."
   ]
  },
  {
   "cell_type": "code",
   "execution_count": 11,
   "metadata": {},
   "outputs": [],
   "source": [
    "# YOUR CODE\n",
    "content_layers= [\"block4_conv2\"]\n",
    "style_layers= [\"block1_conv1\",\"block2_conv1\",\"block3_conv1\",\"block4_conv1\",\"block5_conv1\"]"
   ]
  },
  {
   "cell_type": "markdown",
   "metadata": {},
   "source": [
    "12. Write a function ```vgg_layers``` that takes as input a list of strings ```layer_names``` and returns an object ```model``` of type ```keras.models.Model```. Start by loading a pretrained ```VGG19``` without fully connected layers. Then, use the Keras Functional API to create a model ```model``` that has the same input layer as ```VGG19``` and features a list of output layers corresponding to the subset of ```VGG19``` layers specified in ```layer_names```."
   ]
  },
  {
   "cell_type": "code",
   "execution_count": 12,
   "metadata": {},
   "outputs": [],
   "source": [
    "# YOUR CODE\n",
    "def vgg_layers(layer_names):\n",
    "    layer_outputs= []\n",
    "    for name in layer_names:\n",
    "        layer_outputs.append(vgg.get_layer(name).output)\n",
    "    model = tf.keras.Model(inputs=vgg.input, outputs= layer_outputs)\n",
    "    return model"
   ]
  },
  {
   "cell_type": "code",
   "execution_count": 13,
   "metadata": {},
   "outputs": [
    {
     "data": {
      "text/plain": [
       "[<KerasTensor: shape=(None, None, None, 64) dtype=float64 (created by layer 'block1_conv1')>,\n",
       " <KerasTensor: shape=(None, None, None, 128) dtype=float64 (created by layer 'block2_conv1')>,\n",
       " <KerasTensor: shape=(None, None, None, 256) dtype=float64 (created by layer 'block3_conv1')>,\n",
       " <KerasTensor: shape=(None, None, None, 512) dtype=float64 (created by layer 'block4_conv1')>,\n",
       " <KerasTensor: shape=(None, None, None, 512) dtype=float64 (created by layer 'block5_conv1')>]"
      ]
     },
     "execution_count": 13,
     "metadata": {},
     "output_type": "execute_result"
    }
   ],
   "source": [
    "vgg_layers(style_layers).output"
   ]
  },
  {
   "cell_type": "markdown",
   "metadata": {},
   "source": [
    "**Checkpoint:** The above call of ```vgg_layers(style_layers).output``` should create the following output:\n",
    "```\n",
    "[<KerasTensor: shape=(None, None, None, 64) dtype=float64 (created by layer 'block1_conv1')>,\n",
    " <KerasTensor: shape=(None, None, None, 128) dtype=float64 (created by layer 'block2_conv1')>,\n",
    " <KerasTensor: shape=(None, None, None, 256) dtype=float64 (created by layer 'block3_conv1')>,\n",
    " <KerasTensor: shape=(None, None, None, 512) dtype=float64 (created by layer 'block4_conv1')>,\n",
    " <KerasTensor: shape=(None, None, None, 512) dtype=float64 (created by layer 'block5_conv1')>]\n",
    " ```"
   ]
  },
  {
   "cell_type": "markdown",
   "metadata": {},
   "source": [
    "13. Write a function ```gram_matrix``` that gets as input a 4D-tensor ```input_tensor``` (corresponding to $\\mathbf{a}^{[\\ell](\\mathbf{x})}$ and $\\mathbf{a}^{[\\ell](\\mathbf{s})}$, respectively) and returns the Gram matrix of this tensor according to $(****)$. To that end, apply the function ```tf.linalg.einsum``` conveniently as a first step. Keep in mind that the leading dimension of ```input_tensor``` represents the batch size and should remain untouched during Gram matrix computation."
   ]
  },
  {
   "cell_type": "code",
   "execution_count": 15,
   "metadata": {},
   "outputs": [],
   "source": [
    "# YOUR CODE\n",
    "def gram_matrix(input_tensor):\n",
    "    summation = tf.linalg.einsum('aijb,aijc->abc', input_tensor, input_tensor)\n",
    "    shape= tf.cast(tf.shape(input_tensor), dtype= tf.float64)\n",
    "    return summation/(shape[1]*shape[2]*shape[3])"
   ]
  },
  {
   "cell_type": "code",
   "execution_count": 16,
   "metadata": {
    "scrolled": true
   },
   "outputs": [
    {
     "data": {
      "text/plain": [
       "<tf.Tensor: shape=(1, 64, 64), dtype=float64, numpy=\n",
       "array([[[0.01065388, 0.00390675, 0.00425856, ..., 0.00097763,\n",
       "         0.00566108, 0.00761762],\n",
       "        [0.00390675, 0.0019675 , 0.00208546, ..., 0.00022037,\n",
       "         0.00267012, 0.00339072],\n",
       "        [0.00425856, 0.00208546, 0.00227649, ..., 0.00021288,\n",
       "         0.00297196, 0.00380253],\n",
       "        ...,\n",
       "        [0.00097763, 0.00022037, 0.00021288, ..., 0.00061053,\n",
       "         0.00064032, 0.0006466 ],\n",
       "        [0.00566108, 0.00267012, 0.00297196, ..., 0.00064032,\n",
       "         0.00492798, 0.00563125],\n",
       "        [0.00761762, 0.00339072, 0.00380253, ..., 0.0006466 ,\n",
       "         0.00563125, 0.00693724]]])>"
      ]
     },
     "execution_count": 16,
     "metadata": {},
     "output_type": "execute_result"
    }
   ],
   "source": [
    "gram_matrix(vgg_layers(style_layers)(content_image)[0])"
   ]
  },
  {
   "cell_type": "markdown",
   "metadata": {},
   "source": [
    "**Checkpoint:** The above call of ```gram_matrix(vgg_layers(style_layers)(content_image)[0])``` should produce the following output:\n",
    "```\n",
    "<tf.Tensor: shape=(1, 64, 64), dtype=float64, numpy=\n",
    "array([[[0.01065388, 0.00390675, 0.00425856, ..., 0.00097763,\n",
    "         0.00566108, 0.00761762],\n",
    "        [0.00390675, 0.0019675 , 0.00208546, ..., 0.00022037,\n",
    "         0.00267012, 0.00339072],\n",
    "        [0.00425856, 0.00208546, 0.00227649, ..., 0.00021288,\n",
    "         0.00297196, 0.00380253],\n",
    "        ...,\n",
    "        [0.00097763, 0.00022037, 0.00021288, ..., 0.00061053,\n",
    "         0.00064032, 0.0006466 ],\n",
    "        [0.00566108, 0.00267012, 0.00297196, ..., 0.00064032,\n",
    "         0.00492798, 0.00563125],\n",
    "        [0.00761762, 0.00339072, 0.00380253, ..., 0.0006466 ,\n",
    "         0.00563125, 0.00693724]]])>\n",
    "```"
   ]
  },
  {
   "cell_type": "markdown",
   "metadata": {},
   "source": [
    "14. Complete the method ```call``` of the class ```StyleContentModel```. Proceed as follows:\n",
    "\n",
    "    14.1 The argument ```inputs``` is again a 4D-tensor with values between zero and one. Apply ```tf.keras.applications.vgg19.preprocess_input``` to an appropriately scaled version of ```inputs``` (do not change height and width) and store the result in ```preprocessed_input```.\n",
    "    \n",
    "    14.2 Apply the attribute ```vgg``` to ```preprocessed_input``` and store the result in ```outputs```.\n",
    "    \n",
    "    14.3 Subdivide the list ```outputs``` into two lists ```style_outputs``` and ```content_outputs```. Before you do that, take a look at the initialization of ```vgg```.\n",
    "    \n",
    "    14.4 Replace all elements of ```style_outputs``` by associated Gram matrices."
   ]
  },
  {
   "cell_type": "code",
   "execution_count": 17,
   "metadata": {},
   "outputs": [],
   "source": [
    "# replace all occurences of None\n",
    "class StyleContentModel(tf.keras.models.Model):  \n",
    "    def __init__(self, style_layers, content_layers):\n",
    "        super(StyleContentModel, self).__init__()\n",
    "        self.vgg =  vgg_layers(style_layers + content_layers)\n",
    "        self.style_layers = style_layers\n",
    "        self.content_layers = content_layers\n",
    "        self.num_style_layers = len(style_layers)\n",
    "        self.vgg.trainable = False\n",
    "        \n",
    "    def call(self, inputs):\n",
    "        preprocessed_input = tf.keras.applications.vgg19.preprocess_input(inputs*255)\n",
    "        outputs = self.vgg(preprocessed_input)\n",
    "        style_outputs, content_outputs = outputs[:self.num_style_layers], outputs[self.num_style_layers:]\n",
    "        style_outputs = [gram_matrix(layer) for layer in style_outputs]\n",
    "        content_dict = {content_name: value for content_name, value in zip(self.content_layers, content_outputs)}\n",
    "        style_dict = {style_name: value for style_name, value in zip(self.style_layers, style_outputs)}\n",
    "        return {'content': content_dict, 'style': style_dict}"
   ]
  },
  {
   "cell_type": "markdown",
   "metadata": {},
   "source": [
    "**Remark:** You have finally used all three Keras APIs! In Project 1, you have built models using the *Keras Sequential API*. Above in 12. you used the *Keras Functional API* and in 14.4 the *Keras Subclassing API*. The flexibility of these APIs increases in the above order: The Sequential API is very easy to use, but only allows for models with a single input tensor, a single output tensor, and a number of sequential layers in between. The Functional API allows for multiple input and output tensors (we exploited the latter in 12.) and it is possible, for example, to build so-called skip connections where activations skip one ore more layers. The possibilities of the Subclassing API go far beyond that. Arbitrary TensorFlow functions (in our case to compute the Gram matrix in 14.4) as well as control structures like ```for``` and ```while``` can be used inside the ```call``` method. A drawback of the Subclassing API is that created models cannot be saved and loaded without extra effort. Unlike in case of the other two APIs, we need to create an instance of our (sub)class in order to get a model by means of the Subclassing API.\n",
    "\n",
    "15. Create an instance ```extractor``` of ```StyleContentModel```. In doing that, submit the lists ```style_layers``` and ```content_layers``` from above to the constructor."
   ]
  },
  {
   "cell_type": "code",
   "execution_count": 18,
   "metadata": {},
   "outputs": [],
   "source": [
    "# YOUR CODE\n",
    "extractor = StyleContentModel(style_layers, content_layers)"
   ]
  },
  {
   "cell_type": "markdown",
   "metadata": {},
   "source": [
    "Now we are ready to implement the losses $(*)$, $(**)$ and $(***)$ with the help of ```extractor```!"
   ]
  },
  {
   "cell_type": "markdown",
   "metadata": {},
   "source": [
    "## 2.4 Minimizing the loss\n",
    "\n",
    "In the course of Neural Style Transfer we actually try to solve the optimization problem\n",
    "\n",
    "$$\\min_{\\mathbf{x}} J(\\mathbf{x}, \\mathbf{c}, \\mathbf{s})$$\n",
    "\n",
    "where $\\mathbf{c}$ and $\\mathbf{s}$ represent *Content Image* and *Style Image*, respectively. As these two images are given, all $\\mathbf{a}^{[\\ell](\\mathbf{c})}$ in $(**)$ and all $\\mathbf{G}^{[\\ell](\\mathbf{s})}$ in $(***)$ are constants that we will compute now.\n",
    "\n",
    "16. Apply ```extractor``` to ```style_image``` to extract associated Gram matrices and store the result in ```style_targets```. The result must be a list with items $\\mathbf{G}^{[\\ell](\\mathbf{s})}$ for multiple values of $\\ell$."
   ]
  },
  {
   "cell_type": "code",
   "execution_count": 21,
   "metadata": {},
   "outputs": [],
   "source": [
    "# YOUR CODE\n",
    "style_targets = extractor.call(style_image)['style']"
   ]
  },
  {
   "cell_type": "code",
   "execution_count": 22,
   "metadata": {},
   "outputs": [
    {
     "data": {
      "text/plain": [
       "<tf.Tensor: shape=(1, 64, 64), dtype=float64, numpy=\n",
       "array([[[ 45.92742884,  20.06590424,   9.71988936, ...,  30.17798565,\n",
       "          10.98088822,  15.10200745],\n",
       "        [ 20.06590424,  45.85619827,  13.65396113, ...,  21.29668825,\n",
       "          14.39884289,  10.82709333],\n",
       "        [  9.71988936,  13.65396113,   8.18387724, ...,   2.56935258,\n",
       "           8.03212443,   8.51876502],\n",
       "        ...,\n",
       "        [ 30.17798565,  21.29668825,   2.56935258, ..., 198.46451653,\n",
       "          20.2117604 ,   9.80212631],\n",
       "        [ 10.98088822,  14.39884289,   8.03212443, ...,  20.2117604 ,\n",
       "          21.53060934,  15.80490658],\n",
       "        [ 15.10200745,  10.82709333,   8.51876502, ...,   9.80212631,\n",
       "          15.80490658,  16.5611041 ]]])>"
      ]
     },
     "execution_count": 22,
     "metadata": {},
     "output_type": "execute_result"
    }
   ],
   "source": [
    "style_targets[\"block1_conv1\"]"
   ]
  },
  {
   "cell_type": "markdown",
   "metadata": {},
   "source": [
    "**Checkpoint:** The above call of ```style_targets[\"block1_conv1\"]``` should produce the following output:\n",
    "```\n",
    "<tf.Tensor: shape=(1, 64, 64), dtype=float64, numpy=\n",
    "array([[[ 45.92743055,  20.06590504,   9.71989013, ...,  30.17798489,\n",
    "          10.98088872,  15.10200837],\n",
    "        [ 20.06590504,  45.85620007,  13.65396233, ...,  21.29668717,\n",
    "          14.39884349,  10.82709402],\n",
    "        [  9.71989013,  13.65396233,   8.18387814, ...,   2.56935254,\n",
    "           8.03212506,   8.51876579],\n",
    "        ...,\n",
    "        [ 30.17798489,  21.29668717,   2.56935254, ..., 198.46450743,\n",
    "          20.21175996,   9.80212628],\n",
    "        [ 10.98088872,  14.39884349,   8.03212506, ...,  20.21175996,\n",
    "          21.53061025,  15.80490754],\n",
    "        [ 15.10200837,  10.82709402,   8.51876579, ...,   9.80212628,\n",
    "          15.80490754,  16.56110532]]])>\n",
    "```"
   ]
  },
  {
   "cell_type": "markdown",
   "metadata": {},
   "source": [
    "17. Apply ```extractor``` to ```content_image``` to extract associated activations and store the result in ```content_targets```. The result must be a list with items $\\mathbf{a}^{[\\ell](\\mathbf{c})}$ for different values of $\\ell$."
   ]
  },
  {
   "cell_type": "code",
   "execution_count": 23,
   "metadata": {},
   "outputs": [],
   "source": [
    "# YOUR CODE\n",
    "content_targets= extractor(content_image)['content']"
   ]
  },
  {
   "cell_type": "code",
   "execution_count": 24,
   "metadata": {},
   "outputs": [
    {
     "data": {
      "text/plain": [
       "<tf.Tensor: shape=(64, 512), dtype=float64, numpy=\n",
       "array([[725.71263939,   0.        ,  91.28208314, ...,  43.47581765,\n",
       "        375.02082686,   0.        ],\n",
       "       [  0.        ,   0.        , 353.31355532, ...,   0.        ,\n",
       "        351.77781124,   0.        ],\n",
       "       [  0.        ,   0.        , 490.15687091, ...,   0.        ,\n",
       "        460.51095114,   0.        ],\n",
       "       ...,\n",
       "       [  0.        ,   0.        , 178.48056688, ..., 161.33849127,\n",
       "        238.54999171,   0.        ],\n",
       "       [  0.        ,   0.        , 682.4544475 , ..., 182.4888881 ,\n",
       "        390.16691515,   0.        ],\n",
       "       [  0.        ,   0.        , 607.08129802, ..., 595.88200414,\n",
       "        626.46031484,   0.        ]])>"
      ]
     },
     "execution_count": 24,
     "metadata": {},
     "output_type": "execute_result"
    }
   ],
   "source": [
    "content_targets[\"block4_conv2\"][0][0]"
   ]
  },
  {
   "cell_type": "markdown",
   "metadata": {},
   "source": [
    "**Checkpoint:** The above call of ```content_targets[\"block1_conv1\"][0][0]``` should produce the following output:\n",
    "```\n",
    "<tf.Tensor: shape=(64, 512), dtype=float64, numpy=\n",
    "array([[725.71265434,   0.        ,  91.28209556, ...,  43.47577693,\n",
    "        375.02083088,   0.        ],\n",
    "       [  0.        ,   0.        , 353.31359666, ...,   0.        ,\n",
    "        351.77779676,   0.        ],\n",
    "       [  0.        ,   0.        , 490.15692419, ...,   0.        ,\n",
    "        460.51096857,   0.        ],\n",
    "       ...,\n",
    "       [  0.        ,   0.        , 178.48063073, ..., 161.33845743,\n",
    "        238.55003094,   0.        ],\n",
    "       [  0.        ,   0.        , 682.45457904, ..., 182.48885433,\n",
    "        390.16694736,   0.        ],\n",
    "       [  0.        ,   0.        , 607.08138405, ..., 595.88203066,\n",
    "        626.46038097,   0.        ]])>\n",
    "```"
   ]
  },
  {
   "cell_type": "markdown",
   "metadata": {},
   "source": [
    "18. Initialize ```image``` (corresponding to $\\mathbf{x}$) as a ```tf.Variable``` with value ```content_image```."
   ]
  },
  {
   "cell_type": "code",
   "execution_count": 25,
   "metadata": {},
   "outputs": [],
   "source": [
    "# YOUR CODE\n",
    "image= tf.Variable(content_image)"
   ]
  },
  {
   "cell_type": "markdown",
   "metadata": {},
   "source": [
    "19. Initialize ```content_weight = 1e-3``` (corresponds to $\\alpha$) and ```style_weight = 1``` (corresponds to $\\beta$)."
   ]
  },
  {
   "cell_type": "code",
   "execution_count": 26,
   "metadata": {},
   "outputs": [],
   "source": [
    "# YOUR CODE\n",
    "content_weight= 1e-3\n",
    "style_weight= 1"
   ]
  },
  {
   "cell_type": "markdown",
   "metadata": {},
   "source": [
    "20. Assign the optimizer ```tf.optimizers.Adam``` with parameters ```learning_rate=0.02```, ```beta_1=0.99``` and ```epsilon=1e-1``` to ```opt```."
   ]
  },
  {
   "cell_type": "code",
   "execution_count": 27,
   "metadata": {},
   "outputs": [],
   "source": [
    "# YOUR CODE\n",
    "opt = tf.optimizers.Adam(learning_rate= 0.02, beta_1= 0.99, epsilon= 1e-1)"
   ]
  },
  {
   "cell_type": "markdown",
   "metadata": {},
   "source": [
    "21. Write a function ```clip_0_1``` that takes a 4D-tensor ```image``` as input and clips the values of that tensor to the interval ```[0, 1]```. Use the function ```tf.clip_by_value```."
   ]
  },
  {
   "cell_type": "code",
   "execution_count": 28,
   "metadata": {},
   "outputs": [],
   "source": [
    "# YOUR CODE\n",
    "def clip_0_1(image):\n",
    "    return tf.clip_by_value(image, clip_value_min= 0, clip_value_max= 1)"
   ]
  },
  {
   "cell_type": "markdown",
   "metadata": {},
   "source": [
    "22. Complete the function ```style_content_loss``` that corresponds to $(*)$ and will be called by ```train_step``` in the next step."
   ]
  },
  {
   "cell_type": "code",
   "execution_count": 29,
   "metadata": {},
   "outputs": [],
   "source": [
    "# replace all occurences of None\n",
    "def style_content_loss(outputs, style_targets, content_targets, style_weight, content_weight):\n",
    "    style_outputs = outputs['style']\n",
    "    content_outputs = outputs['content']\n",
    "    style_loss = tf.add_n([tf.reduce_sum((style_outputs[name] - style_targets[name]) ** 2) for name in style_outputs.keys()])\n",
    "    style_loss *= style_weight /(4 * len(style_outputs))\n",
    "    content_loss = tf.add_n([tf.reduce_sum((content_outputs[name] - content_targets[name]) ** 2) for name in content_outputs.keys()])\n",
    "    content_loss *= content_weight /(2 * len(content_outputs))\n",
    "    loss = style_loss + content_loss\n",
    "    return loss"
   ]
  },
  {
   "cell_type": "markdown",
   "metadata": {},
   "source": [
    "23. Complete the TensorFlow function ```train_step``` that computes a gradient of ```style_content_loss``` with respect to ```image``` and performs an associated gradient descent step."
   ]
  },
  {
   "cell_type": "code",
   "execution_count": 30,
   "metadata": {},
   "outputs": [],
   "source": [
    "# replace all occurences of None\n",
    "@tf.function()\n",
    "def train_step(image, opt):\n",
    "    with tf.GradientTape() as tape:\n",
    "        outputs = extractor(image)\n",
    "        loss = style_content_loss(outputs, style_targets, content_targets, style_weight, content_weight)\n",
    "    grad = tape.gradient(loss, image)    \n",
    "    opt.apply_gradients([(grad, image)])\n",
    "    image.assign(clip_0_1(image))\n",
    "    return loss"
   ]
  },
  {
   "cell_type": "markdown",
   "metadata": {},
   "source": [
    "**Remark:** The prefix ```@tf.function()``` creates a so-called TensorFlow function. Based on such functions, TensorFlow creates and optimizes computation graphs automatically at runtime which will often induce a drastic speed-up (through parallelization, etc.)."
   ]
  },
  {
   "cell_type": "markdown",
   "metadata": {},
   "source": [
    "24. Complement the following code with a call of ```train_step``` and start training. Watch the *Getting started with TensorBoard* video in the Stud.IP courseware to learn how to access the results."
   ]
  },
  {
   "cell_type": "code",
   "execution_count": null,
   "metadata": {},
   "outputs": [],
   "source": [
    "loops = 100\n",
    "iters_per_loop = 10\n",
    "\n",
    "file_writer = tf.summary.create_file_writer('logs' + f'/stw{style_weight}_cow{content_weight}')\n",
    "file_writer.set_as_default()\n",
    "\n",
    "for loop in range(loops):\n",
    "    tf.summary.image('image', data=image, step=loop * iters_per_loop)\n",
    "    for it in range(iters_per_loop):\n",
    "        # YOUR CODE\n",
    "        loss = train_step(image, opt)\n",
    "        tf.summary.scalar('loss', data=loss, step=loop * iters_per_loop + it)"
   ]
  },
  {
   "cell_type": "markdown",
   "metadata": {},
   "source": [
    "## 2.5 Adding TV regularization"
   ]
  },
  {
   "cell_type": "markdown",
   "metadata": {},
   "source": [
    "Images generated with *Neural Style Transfer* often feature high frequency parts which some viewers might perceive as unpleasant or noisy. One way to mitigate this effect is adding *TV regularization* to the overall loss ```(*)```. In a nutshell, this means that large color gradients of the generated image are penalized a little bit. The resulting image usually has less local variation and appears smoother than before. Luckily, TensorFlow features a readily implemented function to compute the total variation of images and we are now going to add this function to ```train_step```."
   ]
  },
  {
   "cell_type": "markdown",
   "metadata": {},
   "source": [
    "25. Initialize ```tv_weight = 1e3```."
   ]
  },
  {
   "cell_type": "code",
   "execution_count": null,
   "metadata": {},
   "outputs": [],
   "source": [
    "# YOUR CODE\n",
    "tv_weight = 1e3"
   ]
  },
  {
   "cell_type": "markdown",
   "metadata": {},
   "source": [
    "26. Redefine ```train_step```. The only difference above should be an additional loss term ```tv_weight * tf.cast(tf.image.total_variation(image)[0], tf.float64)```."
   ]
  },
  {
   "cell_type": "code",
   "execution_count": null,
   "metadata": {},
   "outputs": [],
   "source": [
    "# YOUR CODE\n",
    "@tf.function()\n",
    "def train_step(image, opt):\n",
    "    with tf.GradientTape() as tape:\n",
    "        outputs = extractor(image)\n",
    "        loss = style_content_loss(outputs, style_targets, content_targets, style_weight, content_weight)\n",
    "        loss = loss + tv_weight * tf.cast(tf.image.total_variation(image)[0], tf.float64)\n",
    "    grad = tape.gradient(loss, image)    \n",
    "    opt.apply_gradients([(grad, image)])\n",
    "    image.assign(clip_0_1(image))\n",
    "    return loss"
   ]
  },
  {
   "cell_type": "markdown",
   "metadata": {},
   "source": [
    "27. Initialize ```image``` again."
   ]
  },
  {
   "cell_type": "code",
   "execution_count": null,
   "metadata": {},
   "outputs": [],
   "source": [
    "# YOUR CODE\n",
    "image = tf.Variable(content_image)"
   ]
  },
  {
   "cell_type": "markdown",
   "metadata": {},
   "source": [
    "28. Repeat step 24. and view the results. Don't forget to re-initialize ```opt```."
   ]
  },
  {
   "cell_type": "code",
   "execution_count": null,
   "metadata": {},
   "outputs": [],
   "source": [
    "# YOUR CODE\n",
    "loops = 100\n",
    "iters_per_loop = 10\n",
    "opt = tf.optimizers.Adam(learning_rate=0.02, beta_1=0.99, epsilon=1e-1)\n",
    "\n",
    "file_writer = tf.summary.create_file_writer('logs' + f'/stw{style_weight}_cow{content_weight}')\n",
    "file_writer.set_as_default()\n",
    "\n",
    "for loop in range(loops):\n",
    "    tf.summary.image('image', data=image, step=loop * iters_per_loop)\n",
    "    for it in range(iters_per_loop):\n",
    "        # YOUR CODE\n",
    "        loss = train_step(image, opt)\n",
    "        tf.summary.scalar('loss', data=loss, step=loop * iters_per_loop + it)"
   ]
  },
  {
   "cell_type": "markdown",
   "metadata": {},
   "source": [
    "29. Submit this notebook not later than December 11th."
   ]
  },
  {
   "cell_type": "markdown",
   "metadata": {},
   "source": [
    "30. Apply Neural Style Transfer to content and style images of your choice. Three (not more and not less) self-created images per group need to be submitted and are also due on Decmeber 11th.\n",
    "\n",
    "The submitted images are intended to participate in a *Neural Art Contest* that will take place towards the end of the semester in the form of a public online poll. The guiding theme of the contest is *Nature*. So your content images should feature something from this context. Apart from using content and style images of your choice, there are several things you could try:\n",
    "\n",
    "- Use a larger value of ```max_dim``` to produce higher-resolution images.\n",
    "- Use constant or random initialization for ```image``` instead of ```content_image```.\n",
    "- Use lists ```content_layers``` and ```style_layers``` that are different from the standard setting.\n",
    "- Modify ```content_weight```, ```style_weight``` and ```tv_weight```.\n",
    "- Replace ```tf.optimizers.Adam``` by another algorithm.\n",
    "- Perform more iterations.\n",
    "- Anything else that comes to your mind.\n",
    "\n",
    "Importantly, you need to use your own code to create the images. Moreover, your submission needs to be reproducible, i.e., you are asked to submit all content, style and generated images Python scripts that can be run to reproduce your submitted images.\n",
    "\n",
    "We recommend to use the GPU cluster, especially when you increase the image resolution."
   ]
  },
  {
   "cell_type": "code",
   "execution_count": null,
   "metadata": {},
   "outputs": [],
   "source": []
  }
 ],
 "metadata": {
  "kernelspec": {
   "display_name": "Python 3 (ipykernel)",
   "language": "python",
   "name": "python3"
  },
  "language_info": {
   "codemirror_mode": {
    "name": "ipython",
    "version": 3
   },
   "file_extension": ".py",
   "mimetype": "text/x-python",
   "name": "python",
   "nbconvert_exporter": "python",
   "pygments_lexer": "ipython3",
   "version": "3.8.0"
  }
 },
 "nbformat": 4,
 "nbformat_minor": 2
}
